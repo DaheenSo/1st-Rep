{
 "cells": [
  {
   "cell_type": "code",
   "execution_count": 81,
   "id": "d814eb5e",
   "metadata": {},
   "outputs": [],
   "source": [
    "import pandas as pd"
   ]
  },
  {
   "cell_type": "code",
   "execution_count": 82,
   "id": "3cb812bd",
   "metadata": {},
   "outputs": [],
   "source": [
    "data = pd.read_csv('trip.csv')"
   ]
  },
  {
   "cell_type": "code",
   "execution_count": 83,
   "id": "2dee8801",
   "metadata": {},
   "outputs": [
    {
     "data": {
      "text/html": [
       "<div>\n",
       "<style scoped>\n",
       "    .dataframe tbody tr th:only-of-type {\n",
       "        vertical-align: middle;\n",
       "    }\n",
       "\n",
       "    .dataframe tbody tr th {\n",
       "        vertical-align: top;\n",
       "    }\n",
       "\n",
       "    .dataframe thead th {\n",
       "        text-align: right;\n",
       "    }\n",
       "</style>\n",
       "<table border=\"1\" class=\"dataframe\">\n",
       "  <thead>\n",
       "    <tr style=\"text-align: right;\">\n",
       "      <th></th>\n",
       "      <th>passenger_name</th>\n",
       "      <th>tpep_pickup_datetime</th>\n",
       "      <th>tpep_dropoff_datetime</th>\n",
       "      <th>payment_method</th>\n",
       "      <th>passenger_count</th>\n",
       "      <th>trip_distance</th>\n",
       "      <th>fare_amount</th>\n",
       "      <th>tip_amount</th>\n",
       "      <th>tolls_amount</th>\n",
       "    </tr>\n",
       "  </thead>\n",
       "  <tbody>\n",
       "    <tr>\n",
       "      <th>0</th>\n",
       "      <td>Pamela Duffy</td>\n",
       "      <td>03/25/2017 8:55:43 AM</td>\n",
       "      <td>03/25/2017 9:09:47 AM</td>\n",
       "      <td>Debit Card</td>\n",
       "      <td>6</td>\n",
       "      <td>3.34</td>\n",
       "      <td>13.0</td>\n",
       "      <td>2.76</td>\n",
       "      <td>0.00</td>\n",
       "    </tr>\n",
       "    <tr>\n",
       "      <th>1</th>\n",
       "      <td>Michelle Foster</td>\n",
       "      <td>04/11/2017 2:53:28 PM</td>\n",
       "      <td>04/11/2017 3:19:58 PM</td>\n",
       "      <td>Debit Card</td>\n",
       "      <td>1</td>\n",
       "      <td>1.80</td>\n",
       "      <td>16.0</td>\n",
       "      <td>4.00</td>\n",
       "      <td>0.00</td>\n",
       "    </tr>\n",
       "    <tr>\n",
       "      <th>2</th>\n",
       "      <td>Tina Combs</td>\n",
       "      <td>12/15/2017 7:26:56 AM</td>\n",
       "      <td>12/15/2017 7:34:08 AM</td>\n",
       "      <td>Debit Card</td>\n",
       "      <td>1</td>\n",
       "      <td>1.00</td>\n",
       "      <td>6.5</td>\n",
       "      <td>1.45</td>\n",
       "      <td>0.00</td>\n",
       "    </tr>\n",
       "    <tr>\n",
       "      <th>3</th>\n",
       "      <td>Anthony Ray</td>\n",
       "      <td>05/07/2017 1:17:59 PM</td>\n",
       "      <td>05/07/2017 1:48:14 PM</td>\n",
       "      <td>Cash</td>\n",
       "      <td>1</td>\n",
       "      <td>3.70</td>\n",
       "      <td>20.5</td>\n",
       "      <td>6.39</td>\n",
       "      <td>0.00</td>\n",
       "    </tr>\n",
       "    <tr>\n",
       "      <th>4</th>\n",
       "      <td>Brianna Johnson</td>\n",
       "      <td>04/15/2017 11:32:20 PM</td>\n",
       "      <td>04/15/2017 11:49:03 PM</td>\n",
       "      <td>Debit Card</td>\n",
       "      <td>1</td>\n",
       "      <td>4.37</td>\n",
       "      <td>16.5</td>\n",
       "      <td>0.00</td>\n",
       "      <td>0.00</td>\n",
       "    </tr>\n",
       "    <tr>\n",
       "      <th>...</th>\n",
       "      <td>...</td>\n",
       "      <td>...</td>\n",
       "      <td>...</td>\n",
       "      <td>...</td>\n",
       "      <td>...</td>\n",
       "      <td>...</td>\n",
       "      <td>...</td>\n",
       "      <td>...</td>\n",
       "      <td>...</td>\n",
       "    </tr>\n",
       "    <tr>\n",
       "      <th>22696</th>\n",
       "      <td>Austin Johnson</td>\n",
       "      <td>02/24/2017 5:37:23 PM</td>\n",
       "      <td>02/24/2017 5:40:39 PM</td>\n",
       "      <td>Cash</td>\n",
       "      <td>3</td>\n",
       "      <td>0.61</td>\n",
       "      <td>4.0</td>\n",
       "      <td>0.00</td>\n",
       "      <td>0.00</td>\n",
       "    </tr>\n",
       "    <tr>\n",
       "      <th>22697</th>\n",
       "      <td>Monique Williams</td>\n",
       "      <td>08/06/2017 4:43:59 PM</td>\n",
       "      <td>08/06/2017 5:24:47 PM</td>\n",
       "      <td>Cash</td>\n",
       "      <td>1</td>\n",
       "      <td>16.71</td>\n",
       "      <td>52.0</td>\n",
       "      <td>14.64</td>\n",
       "      <td>5.76</td>\n",
       "    </tr>\n",
       "    <tr>\n",
       "      <th>22698</th>\n",
       "      <td>Drew Graves</td>\n",
       "      <td>09/04/2017 2:54:14 PM</td>\n",
       "      <td>09/04/2017 2:58:22 PM</td>\n",
       "      <td>Debit Card</td>\n",
       "      <td>1</td>\n",
       "      <td>0.42</td>\n",
       "      <td>4.5</td>\n",
       "      <td>0.00</td>\n",
       "      <td>0.00</td>\n",
       "    </tr>\n",
       "    <tr>\n",
       "      <th>22699</th>\n",
       "      <td>Jonathan Copeland</td>\n",
       "      <td>07/15/2017 12:56:30 PM</td>\n",
       "      <td>07/15/2017 1:08:26 PM</td>\n",
       "      <td>Debit Card</td>\n",
       "      <td>1</td>\n",
       "      <td>2.36</td>\n",
       "      <td>10.5</td>\n",
       "      <td>1.70</td>\n",
       "      <td>0.00</td>\n",
       "    </tr>\n",
       "    <tr>\n",
       "      <th>22700</th>\n",
       "      <td>Benjamin Miller</td>\n",
       "      <td>03/02/2017 1:02:49 PM</td>\n",
       "      <td>03/02/2017 1:16:09 PM</td>\n",
       "      <td>Cash</td>\n",
       "      <td>1</td>\n",
       "      <td>2.10</td>\n",
       "      <td>11.0</td>\n",
       "      <td>2.35</td>\n",
       "      <td>0.00</td>\n",
       "    </tr>\n",
       "  </tbody>\n",
       "</table>\n",
       "<p>22701 rows × 9 columns</p>\n",
       "</div>"
      ],
      "text/plain": [
       "          passenger_name    tpep_pickup_datetime   tpep_dropoff_datetime  \\\n",
       "0           Pamela Duffy   03/25/2017 8:55:43 AM   03/25/2017 9:09:47 AM   \n",
       "1        Michelle Foster   04/11/2017 2:53:28 PM   04/11/2017 3:19:58 PM   \n",
       "2             Tina Combs   12/15/2017 7:26:56 AM   12/15/2017 7:34:08 AM   \n",
       "3            Anthony Ray   05/07/2017 1:17:59 PM   05/07/2017 1:48:14 PM   \n",
       "4        Brianna Johnson  04/15/2017 11:32:20 PM  04/15/2017 11:49:03 PM   \n",
       "...                  ...                     ...                     ...   \n",
       "22696     Austin Johnson   02/24/2017 5:37:23 PM   02/24/2017 5:40:39 PM   \n",
       "22697   Monique Williams   08/06/2017 4:43:59 PM   08/06/2017 5:24:47 PM   \n",
       "22698        Drew Graves   09/04/2017 2:54:14 PM   09/04/2017 2:58:22 PM   \n",
       "22699  Jonathan Copeland  07/15/2017 12:56:30 PM   07/15/2017 1:08:26 PM   \n",
       "22700    Benjamin Miller   03/02/2017 1:02:49 PM   03/02/2017 1:16:09 PM   \n",
       "\n",
       "      payment_method  passenger_count  trip_distance  fare_amount  tip_amount  \\\n",
       "0         Debit Card                6           3.34         13.0        2.76   \n",
       "1         Debit Card                1           1.80         16.0        4.00   \n",
       "2         Debit Card                1           1.00          6.5        1.45   \n",
       "3               Cash                1           3.70         20.5        6.39   \n",
       "4         Debit Card                1           4.37         16.5        0.00   \n",
       "...              ...              ...            ...          ...         ...   \n",
       "22696           Cash                3           0.61          4.0        0.00   \n",
       "22697           Cash                1          16.71         52.0       14.64   \n",
       "22698     Debit Card                1           0.42          4.5        0.00   \n",
       "22699     Debit Card                1           2.36         10.5        1.70   \n",
       "22700           Cash                1           2.10         11.0        2.35   \n",
       "\n",
       "       tolls_amount  \n",
       "0              0.00  \n",
       "1              0.00  \n",
       "2              0.00  \n",
       "3              0.00  \n",
       "4              0.00  \n",
       "...             ...  \n",
       "22696          0.00  \n",
       "22697          5.76  \n",
       "22698          0.00  \n",
       "22699          0.00  \n",
       "22700          0.00  \n",
       "\n",
       "[22701 rows x 9 columns]"
      ]
     },
     "execution_count": 83,
     "metadata": {},
     "output_type": "execute_result"
    }
   ],
   "source": [
    "data"
   ]
  },
  {
   "cell_type": "code",
   "execution_count": 84,
   "id": "bbcf6940",
   "metadata": {},
   "outputs": [
    {
     "data": {
      "text/html": [
       "<div>\n",
       "<style scoped>\n",
       "    .dataframe tbody tr th:only-of-type {\n",
       "        vertical-align: middle;\n",
       "    }\n",
       "\n",
       "    .dataframe tbody tr th {\n",
       "        vertical-align: top;\n",
       "    }\n",
       "\n",
       "    .dataframe thead th {\n",
       "        text-align: right;\n",
       "    }\n",
       "</style>\n",
       "<table border=\"1\" class=\"dataframe\">\n",
       "  <thead>\n",
       "    <tr style=\"text-align: right;\">\n",
       "      <th></th>\n",
       "      <th>passenger_name</th>\n",
       "      <th>tpep_pickup_datetime</th>\n",
       "      <th>tpep_dropoff_datetime</th>\n",
       "      <th>payment_method</th>\n",
       "      <th>passenger_count</th>\n",
       "      <th>trip_distance</th>\n",
       "      <th>fare_amount</th>\n",
       "      <th>tip_amount</th>\n",
       "      <th>tolls_amount</th>\n",
       "    </tr>\n",
       "  </thead>\n",
       "  <tbody>\n",
       "    <tr>\n",
       "      <th>0</th>\n",
       "      <td>Pamela Duffy</td>\n",
       "      <td>03/25/2017 8:55:43 AM</td>\n",
       "      <td>03/25/2017 9:09:47 AM</td>\n",
       "      <td>Debit Card</td>\n",
       "      <td>6</td>\n",
       "      <td>3.34</td>\n",
       "      <td>13.0</td>\n",
       "      <td>2.76</td>\n",
       "      <td>0.0</td>\n",
       "    </tr>\n",
       "    <tr>\n",
       "      <th>1</th>\n",
       "      <td>Michelle Foster</td>\n",
       "      <td>04/11/2017 2:53:28 PM</td>\n",
       "      <td>04/11/2017 3:19:58 PM</td>\n",
       "      <td>Debit Card</td>\n",
       "      <td>1</td>\n",
       "      <td>1.80</td>\n",
       "      <td>16.0</td>\n",
       "      <td>4.00</td>\n",
       "      <td>0.0</td>\n",
       "    </tr>\n",
       "    <tr>\n",
       "      <th>2</th>\n",
       "      <td>Tina Combs</td>\n",
       "      <td>12/15/2017 7:26:56 AM</td>\n",
       "      <td>12/15/2017 7:34:08 AM</td>\n",
       "      <td>Debit Card</td>\n",
       "      <td>1</td>\n",
       "      <td>1.00</td>\n",
       "      <td>6.5</td>\n",
       "      <td>1.45</td>\n",
       "      <td>0.0</td>\n",
       "    </tr>\n",
       "    <tr>\n",
       "      <th>3</th>\n",
       "      <td>Anthony Ray</td>\n",
       "      <td>05/07/2017 1:17:59 PM</td>\n",
       "      <td>05/07/2017 1:48:14 PM</td>\n",
       "      <td>Cash</td>\n",
       "      <td>1</td>\n",
       "      <td>3.70</td>\n",
       "      <td>20.5</td>\n",
       "      <td>6.39</td>\n",
       "      <td>0.0</td>\n",
       "    </tr>\n",
       "    <tr>\n",
       "      <th>4</th>\n",
       "      <td>Brianna Johnson</td>\n",
       "      <td>04/15/2017 11:32:20 PM</td>\n",
       "      <td>04/15/2017 11:49:03 PM</td>\n",
       "      <td>Debit Card</td>\n",
       "      <td>1</td>\n",
       "      <td>4.37</td>\n",
       "      <td>16.5</td>\n",
       "      <td>0.00</td>\n",
       "      <td>0.0</td>\n",
       "    </tr>\n",
       "  </tbody>\n",
       "</table>\n",
       "</div>"
      ],
      "text/plain": [
       "    passenger_name    tpep_pickup_datetime   tpep_dropoff_datetime  \\\n",
       "0     Pamela Duffy   03/25/2017 8:55:43 AM   03/25/2017 9:09:47 AM   \n",
       "1  Michelle Foster   04/11/2017 2:53:28 PM   04/11/2017 3:19:58 PM   \n",
       "2       Tina Combs   12/15/2017 7:26:56 AM   12/15/2017 7:34:08 AM   \n",
       "3      Anthony Ray   05/07/2017 1:17:59 PM   05/07/2017 1:48:14 PM   \n",
       "4  Brianna Johnson  04/15/2017 11:32:20 PM  04/15/2017 11:49:03 PM   \n",
       "\n",
       "  payment_method  passenger_count  trip_distance  fare_amount  tip_amount  \\\n",
       "0     Debit Card                6           3.34         13.0        2.76   \n",
       "1     Debit Card                1           1.80         16.0        4.00   \n",
       "2     Debit Card                1           1.00          6.5        1.45   \n",
       "3           Cash                1           3.70         20.5        6.39   \n",
       "4     Debit Card                1           4.37         16.5        0.00   \n",
       "\n",
       "   tolls_amount  \n",
       "0           0.0  \n",
       "1           0.0  \n",
       "2           0.0  \n",
       "3           0.0  \n",
       "4           0.0  "
      ]
     },
     "execution_count": 84,
     "metadata": {},
     "output_type": "execute_result"
    }
   ],
   "source": [
    "data.head()"
   ]
  },
  {
   "cell_type": "code",
   "execution_count": 85,
   "id": "ab3b6c9a",
   "metadata": {},
   "outputs": [
    {
     "name": "stdout",
     "output_type": "stream",
     "text": [
      "<class 'pandas.core.frame.DataFrame'>\n",
      "RangeIndex: 22701 entries, 0 to 22700\n",
      "Data columns (total 9 columns):\n",
      " #   Column                 Non-Null Count  Dtype  \n",
      "---  ------                 --------------  -----  \n",
      " 0   passenger_name         22701 non-null  object \n",
      " 1   tpep_pickup_datetime   22701 non-null  object \n",
      " 2   tpep_dropoff_datetime  22701 non-null  object \n",
      " 3   payment_method         22701 non-null  object \n",
      " 4   passenger_count        22701 non-null  int64  \n",
      " 5   trip_distance          22701 non-null  float64\n",
      " 6   fare_amount            22698 non-null  float64\n",
      " 7   tip_amount             22701 non-null  float64\n",
      " 8   tolls_amount           22701 non-null  float64\n",
      "dtypes: float64(4), int64(1), object(4)\n",
      "memory usage: 1.6+ MB\n"
     ]
    }
   ],
   "source": [
    "data.info()"
   ]
  },
  {
   "cell_type": "code",
   "execution_count": 86,
   "id": "f27afced",
   "metadata": {},
   "outputs": [
    {
     "data": {
      "text/html": [
       "<div>\n",
       "<style scoped>\n",
       "    .dataframe tbody tr th:only-of-type {\n",
       "        vertical-align: middle;\n",
       "    }\n",
       "\n",
       "    .dataframe tbody tr th {\n",
       "        vertical-align: top;\n",
       "    }\n",
       "\n",
       "    .dataframe thead th {\n",
       "        text-align: right;\n",
       "    }\n",
       "</style>\n",
       "<table border=\"1\" class=\"dataframe\">\n",
       "  <thead>\n",
       "    <tr style=\"text-align: right;\">\n",
       "      <th></th>\n",
       "      <th>passenger_count</th>\n",
       "      <th>trip_distance</th>\n",
       "      <th>fare_amount</th>\n",
       "      <th>tip_amount</th>\n",
       "      <th>tolls_amount</th>\n",
       "    </tr>\n",
       "  </thead>\n",
       "  <tbody>\n",
       "    <tr>\n",
       "      <th>count</th>\n",
       "      <td>22701.000000</td>\n",
       "      <td>22701.000000</td>\n",
       "      <td>22698.000000</td>\n",
       "      <td>22701.000000</td>\n",
       "      <td>22701.000000</td>\n",
       "    </tr>\n",
       "    <tr>\n",
       "      <th>mean</th>\n",
       "      <td>1.643584</td>\n",
       "      <td>2.913400</td>\n",
       "      <td>13.024009</td>\n",
       "      <td>1.835745</td>\n",
       "      <td>0.312514</td>\n",
       "    </tr>\n",
       "    <tr>\n",
       "      <th>std</th>\n",
       "      <td>1.304942</td>\n",
       "      <td>3.653023</td>\n",
       "      <td>13.240074</td>\n",
       "      <td>2.800537</td>\n",
       "      <td>1.399153</td>\n",
       "    </tr>\n",
       "    <tr>\n",
       "      <th>min</th>\n",
       "      <td>0.000000</td>\n",
       "      <td>0.000000</td>\n",
       "      <td>-120.000000</td>\n",
       "      <td>0.000000</td>\n",
       "      <td>0.000000</td>\n",
       "    </tr>\n",
       "    <tr>\n",
       "      <th>25%</th>\n",
       "      <td>1.000000</td>\n",
       "      <td>0.990000</td>\n",
       "      <td>6.500000</td>\n",
       "      <td>0.000000</td>\n",
       "      <td>0.000000</td>\n",
       "    </tr>\n",
       "    <tr>\n",
       "      <th>50%</th>\n",
       "      <td>1.000000</td>\n",
       "      <td>1.610000</td>\n",
       "      <td>9.500000</td>\n",
       "      <td>1.350000</td>\n",
       "      <td>0.000000</td>\n",
       "    </tr>\n",
       "    <tr>\n",
       "      <th>75%</th>\n",
       "      <td>2.000000</td>\n",
       "      <td>3.060000</td>\n",
       "      <td>14.500000</td>\n",
       "      <td>2.450000</td>\n",
       "      <td>0.000000</td>\n",
       "    </tr>\n",
       "    <tr>\n",
       "      <th>max</th>\n",
       "      <td>36.000000</td>\n",
       "      <td>33.960000</td>\n",
       "      <td>999.990000</td>\n",
       "      <td>200.000000</td>\n",
       "      <td>19.100000</td>\n",
       "    </tr>\n",
       "  </tbody>\n",
       "</table>\n",
       "</div>"
      ],
      "text/plain": [
       "       passenger_count  trip_distance   fare_amount    tip_amount  \\\n",
       "count     22701.000000   22701.000000  22698.000000  22701.000000   \n",
       "mean          1.643584       2.913400     13.024009      1.835745   \n",
       "std           1.304942       3.653023     13.240074      2.800537   \n",
       "min           0.000000       0.000000   -120.000000      0.000000   \n",
       "25%           1.000000       0.990000      6.500000      0.000000   \n",
       "50%           1.000000       1.610000      9.500000      1.350000   \n",
       "75%           2.000000       3.060000     14.500000      2.450000   \n",
       "max          36.000000      33.960000    999.990000    200.000000   \n",
       "\n",
       "       tolls_amount  \n",
       "count  22701.000000  \n",
       "mean       0.312514  \n",
       "std        1.399153  \n",
       "min        0.000000  \n",
       "25%        0.000000  \n",
       "50%        0.000000  \n",
       "75%        0.000000  \n",
       "max       19.100000  "
      ]
     },
     "execution_count": 86,
     "metadata": {},
     "output_type": "execute_result"
    }
   ],
   "source": [
    "data.describe()"
   ]
  },
  {
   "cell_type": "code",
   "execution_count": null,
   "id": "cea8c9a8",
   "metadata": {},
   "outputs": [],
   "source": []
  },
  {
   "cell_type": "code",
   "execution_count": null,
   "id": "6cc6c080",
   "metadata": {},
   "outputs": [],
   "source": [
    "Question 1. 결측치 판단 및 처리하기"
   ]
  },
  {
   "cell_type": "code",
   "execution_count": 88,
   "id": "a992986b",
   "metadata": {},
   "outputs": [],
   "source": [
    "# 결측치 확인하기\n",
    "\n",
    "missing_values = data.isnull().sum()"
   ]
  },
  {
   "cell_type": "code",
   "execution_count": 89,
   "id": "31062e36",
   "metadata": {},
   "outputs": [
    {
     "name": "stdout",
     "output_type": "stream",
     "text": [
      "passenger_name           0\n",
      "tpep_pickup_datetime     0\n",
      "tpep_dropoff_datetime    0\n",
      "payment_method           0\n",
      "passenger_count          0\n",
      "trip_distance            0\n",
      "fare_amount              3\n",
      "tip_amount               0\n",
      "tolls_amount             0\n",
      "dtype: int64\n"
     ]
    }
   ],
   "source": [
    "print(missing_values)"
   ]
  },
  {
   "cell_type": "code",
   "execution_count": 90,
   "id": "bf8d9e16",
   "metadata": {},
   "outputs": [],
   "source": [
    "missing_percentage = (missing_values / len(data)) * 100"
   ]
  },
  {
   "cell_type": "code",
   "execution_count": 91,
   "id": "64d6f66e",
   "metadata": {},
   "outputs": [
    {
     "name": "stdout",
     "output_type": "stream",
     "text": [
      "passenger_name           0.000000\n",
      "tpep_pickup_datetime     0.000000\n",
      "tpep_dropoff_datetime    0.000000\n",
      "payment_method           0.000000\n",
      "passenger_count          0.000000\n",
      "trip_distance            0.000000\n",
      "fare_amount              0.013215\n",
      "tip_amount               0.000000\n",
      "tolls_amount             0.000000\n",
      "dtype: float64\n"
     ]
    }
   ],
   "source": [
    "print(missing_percentage)"
   ]
  },
  {
   "cell_type": "code",
   "execution_count": 92,
   "id": "70fb2295",
   "metadata": {},
   "outputs": [],
   "source": [
    "# 결측치가 있는 행 제거하기\n",
    "\n",
    "data_cleaned = data.dropna()"
   ]
  },
  {
   "cell_type": "code",
   "execution_count": null,
   "id": "f44f567c",
   "metadata": {},
   "outputs": [],
   "source": [
    "print(data_cleaned.info())"
   ]
  },
  {
   "cell_type": "code",
   "execution_count": 93,
   "id": "0462a6cd",
   "metadata": {},
   "outputs": [],
   "source": [
    "# 결측치가 잘 삭제되었는지 확인하기\n",
    "\n",
    "missing_values_cleaned = data_cleaned.isnull().sum()"
   ]
  },
  {
   "cell_type": "code",
   "execution_count": 94,
   "id": "066f15e5",
   "metadata": {},
   "outputs": [
    {
     "name": "stdout",
     "output_type": "stream",
     "text": [
      "passenger_name           0\n",
      "tpep_pickup_datetime     0\n",
      "tpep_dropoff_datetime    0\n",
      "payment_method           0\n",
      "passenger_count          0\n",
      "trip_distance            0\n",
      "fare_amount              0\n",
      "tip_amount               0\n",
      "tolls_amount             0\n",
      "dtype: int64\n"
     ]
    }
   ],
   "source": [
    "# 결과 출력하기 (결측치 = 무)\n",
    "\n",
    "print(missing_values_cleaned)"
   ]
  },
  {
   "cell_type": "code",
   "execution_count": 95,
   "id": "cef04616",
   "metadata": {},
   "outputs": [
    {
     "name": "stdout",
     "output_type": "stream",
     "text": [
      "       passenger_count  trip_distance   fare_amount    tip_amount  \\\n",
      "count     22698.000000   22698.000000  22698.000000  22698.000000   \n",
      "mean          1.643581       2.912318     13.024009      1.835327   \n",
      "std           1.304983       3.651335     13.240074      2.800093   \n",
      "min           0.000000       0.000000   -120.000000      0.000000   \n",
      "25%           1.000000       0.990000      6.500000      0.000000   \n",
      "50%           1.000000       1.610000      9.500000      1.350000   \n",
      "75%           2.000000       3.060000     14.500000      2.450000   \n",
      "max          36.000000      33.960000    999.990000    200.000000   \n",
      "\n",
      "       tolls_amount  \n",
      "count  22698.000000  \n",
      "mean       0.312302  \n",
      "std        1.398775  \n",
      "min        0.000000  \n",
      "25%        0.000000  \n",
      "50%        0.000000  \n",
      "75%        0.000000  \n",
      "max       19.100000  \n"
     ]
    }
   ],
   "source": [
    "# 통계정보 출력하기\n",
    "\n",
    "print(data_cleaned.describe())"
   ]
  },
  {
   "cell_type": "code",
   "execution_count": null,
   "id": "e8a26d4e",
   "metadata": {},
   "outputs": [],
   "source": []
  },
  {
   "cell_type": "code",
   "execution_count": null,
   "id": "2a15c862",
   "metadata": {},
   "outputs": [],
   "source": [
    "Question 2. 이상치 판단 및 처리하기"
   ]
  },
  {
   "cell_type": "code",
   "execution_count": 96,
   "id": "dbc9a3f8",
   "metadata": {},
   "outputs": [],
   "source": [
    "import pandas as pd\n",
    "import matplotlib.pyplot as plt  "
   ]
  },
  {
   "cell_type": "code",
   "execution_count": 97,
   "id": "ac182399",
   "metadata": {},
   "outputs": [],
   "source": [
    "data = pd.read_csv('trip.csv')"
   ]
  },
  {
   "cell_type": "code",
   "execution_count": null,
   "id": "4fe89c00",
   "metadata": {},
   "outputs": [],
   "source": [
    "data_cleaned = data.dropna()"
   ]
  },
  {
   "cell_type": "code",
   "execution_count": 98,
   "id": "31cc094d",
   "metadata": {},
   "outputs": [
    {
     "name": "stdout",
     "output_type": "stream",
     "text": [
      "<class 'pandas.core.frame.DataFrame'>\n",
      "Int64Index: 22698 entries, 0 to 22700\n",
      "Data columns (total 9 columns):\n",
      " #   Column                 Non-Null Count  Dtype  \n",
      "---  ------                 --------------  -----  \n",
      " 0   passenger_name         22698 non-null  object \n",
      " 1   tpep_pickup_datetime   22698 non-null  object \n",
      " 2   tpep_dropoff_datetime  22698 non-null  object \n",
      " 3   payment_method         22698 non-null  object \n",
      " 4   passenger_count        22698 non-null  int64  \n",
      " 5   trip_distance          22698 non-null  float64\n",
      " 6   fare_amount            22698 non-null  float64\n",
      " 7   tip_amount             22698 non-null  float64\n",
      " 8   tolls_amount           22698 non-null  float64\n",
      "dtypes: float64(4), int64(1), object(4)\n",
      "memory usage: 1.7+ MB\n",
      "None\n"
     ]
    }
   ],
   "source": [
    "print(data_cleaned.info())"
   ]
  },
  {
   "cell_type": "code",
   "execution_count": 100,
   "id": "974d2346",
   "metadata": {},
   "outputs": [],
   "source": [
    "missing_values_cleaned = data_cleaned.isnull().sum()"
   ]
  },
  {
   "cell_type": "code",
   "execution_count": 101,
   "id": "7e585868",
   "metadata": {},
   "outputs": [
    {
     "name": "stdout",
     "output_type": "stream",
     "text": [
      "passenger_name           0\n",
      "tpep_pickup_datetime     0\n",
      "tpep_dropoff_datetime    0\n",
      "payment_method           0\n",
      "passenger_count          0\n",
      "trip_distance            0\n",
      "fare_amount              0\n",
      "tip_amount               0\n",
      "tolls_amount             0\n",
      "dtype: int64\n"
     ]
    }
   ],
   "source": [
    "print(missing_values_cleaned)"
   ]
  },
  {
   "cell_type": "code",
   "execution_count": 102,
   "id": "57313a7c",
   "metadata": {},
   "outputs": [],
   "source": [
    "# 숫자형 변수 리스트 확인하기\n",
    "\n",
    "num_vars = data.select_dtypes(include=['float64', 'int64']).columns.tolist()"
   ]
  },
  {
   "cell_type": "code",
   "execution_count": 103,
   "id": "27ef9045",
   "metadata": {},
   "outputs": [
    {
     "name": "stdout",
     "output_type": "stream",
     "text": [
      "['passenger_count', 'trip_distance', 'fare_amount', 'tip_amount', 'tolls_amount']\n"
     ]
    }
   ],
   "source": [
    "print(num_vars)"
   ]
  },
  {
   "cell_type": "code",
   "execution_count": 105,
   "id": "2da60523",
   "metadata": {},
   "outputs": [
    {
     "data": {
      "image/png": "[encoded data removed]",
      "text/plain": [
       "<Figure size 720x360 with 1 Axes>"
      ]
     },
     "metadata": {
      "needs_background": "light"
     },
     "output_type": "display_data"
    },
    {
     "data": {
      "image/png": "[encoded data removed]",
      "text/plain": [
       "<Figure size 720x360 with 1 Axes>"
      ]
     },
     "metadata": {
      "needs_background": "light"
     },
     "output_type": "display_data"
    },
    {
     "data": {
      "image/png": "[encoded data removed]",
      "text/plain": [
       "<Figure size 720x360 with 1 Axes>"
      ]
     },
     "metadata": {
      "needs_background": "light"
     },
     "output_type": "display_data"
    },
    {
     "data": {
      "image/png": "[encoded data removed]",
      "text/plain": [
       "<Figure size 720x360 with 1 Axes>"
      ]
     },
     "metadata": {
      "needs_background": "light"
     },
     "output_type": "display_data"
    },
    {
     "data": {
      "image/png": "[encoded data removed]",
      "text/plain": [
       "<Figure size 720x360 with 1 Axes>"
      ]
     },
     "metadata": {
      "needs_background": "light"
     },
     "output_type": "display_data"
    }
   ],
   "source": [
    "# 각 숫자형 변수에 대해 scatter plot 그리기\n",
    "\n",
    "for var in num_vars:\n",
    "    plt.figure(figsize=(10, 5))\n",
    "    plt.scatter(range(data_cleaned.shape[0]), data_cleaned[var].values)\n",
    "    plt.title(f'Scatter plot of {var}')\n",
    "    plt.show()"
   ]
  },
  {
   "cell_type": "code",
   "execution_count": 106,
   "id": "a7697d5b",
   "metadata": {},
   "outputs": [],
   "source": [
    "# IQR을 사용하여 이상치 제거하기\n",
    "\n",
    "Q1 = data_cleaned[num_vars].quantile(0.25)\n",
    "Q3 = data_cleaned[num_vars].quantile(0.75)\n",
    "IQR = Q3 - Q1\n",
    "\n",
    "data_outliers_removed = data_cleaned[~((data_cleaned[num_vars] < (Q1 - 1.5 * IQR)) | (data_cleaned[num_vars] > (Q3 + 1.5 * IQR))).any(axis=1)]"
   ]
  },
  {
   "cell_type": "code",
   "execution_count": 107,
   "id": "0cf1649d",
   "metadata": {},
   "outputs": [
    {
     "name": "stdout",
     "output_type": "stream",
     "text": [
      "       passenger_count  trip_distance   fare_amount    tip_amount  \\\n",
      "count     17931.000000   17931.000000  17931.000000  17931.000000   \n",
      "mean          1.251074       1.804634      9.680933      1.345927   \n",
      "std           0.533938       1.238472      4.569401      1.295232   \n",
      "min           0.000000       0.000000     -4.500000      0.000000   \n",
      "25%           1.000000       0.900000      6.000000      0.000000   \n",
      "50%           1.000000       1.440000      8.500000      1.250000   \n",
      "75%           1.000000       2.380000     12.000000      2.150000   \n",
      "max           3.000000       6.160000     26.500000      6.090000   \n",
      "\n",
      "       tolls_amount  \n",
      "count       17931.0  \n",
      "mean            0.0  \n",
      "std             0.0  \n",
      "min             0.0  \n",
      "25%             0.0  \n",
      "50%             0.0  \n",
      "75%             0.0  \n",
      "max             0.0  \n"
     ]
    }
   ],
   "source": [
    "print(data_outliers_removed.describe())"
   ]
  },
  {
   "cell_type": "code",
   "execution_count": null,
   "id": "56096d90",
   "metadata": {},
   "outputs": [],
   "source": []
  },
  {
   "cell_type": "markdown",
   "id": "7c575f50",
   "metadata": {},
   "source": [
    "Question 3. 택시 탑승 및 하차 시간을 활용하기 "
   ]
  },
  {
   "cell_type": "code",
   "execution_count": 108,
   "id": "23c885a3",
   "metadata": {},
   "outputs": [],
   "source": [
    "import pandas as pd\n",
    "import matplotlib.pyplot as plt\n",
    "import seaborn as sns\n",
    "from datetime import datetime"
   ]
  },
  {
   "cell_type": "code",
   "execution_count": 109,
   "id": "c516bd52",
   "metadata": {},
   "outputs": [],
   "source": [
    "data = pd.read_csv('trip.csv')"
   ]
  },
  {
   "cell_type": "code",
   "execution_count": 110,
   "id": "1915ad95",
   "metadata": {},
   "outputs": [],
   "source": [
    "data_cleaned = data.dropna().copy()"
   ]
  },
  {
   "cell_type": "code",
   "execution_count": 111,
   "id": "22c269bd",
   "metadata": {},
   "outputs": [
    {
     "name": "stdout",
     "output_type": "stream",
     "text": [
      "<class 'pandas.core.frame.DataFrame'>\n",
      "Int64Index: 22698 entries, 0 to 22700\n",
      "Data columns (total 9 columns):\n",
      " #   Column                 Non-Null Count  Dtype  \n",
      "---  ------                 --------------  -----  \n",
      " 0   passenger_name         22698 non-null  object \n",
      " 1   tpep_pickup_datetime   22698 non-null  object \n",
      " 2   tpep_dropoff_datetime  22698 non-null  object \n",
      " 3   payment_method         22698 non-null  object \n",
      " 4   passenger_count        22698 non-null  int64  \n",
      " 5   trip_distance          22698 non-null  float64\n",
      " 6   fare_amount            22698 non-null  float64\n",
      " 7   tip_amount             22698 non-null  float64\n",
      " 8   tolls_amount           22698 non-null  float64\n",
      "dtypes: float64(4), int64(1), object(4)\n",
      "memory usage: 1.7+ MB\n",
      "None\n"
     ]
    }
   ],
   "source": [
    "print(data_cleaned.info())"
   ]
  },
  {
   "cell_type": "code",
   "execution_count": 112,
   "id": "b5db5ec0",
   "metadata": {},
   "outputs": [],
   "source": [
    "# 탑승 및 하차 시간을 datetime 형식으로 변환하기\n",
    "\n",
    "data_cleaned['tpep_pickup_datetime'] = pd.to_datetime(data_cleaned['tpep_pickup_datetime'])\n",
    "data_cleaned['tpep_dropoff_datetime'] = pd.to_datetime(data_cleaned['tpep_dropoff_datetime'])"
   ]
  },
  {
   "cell_type": "code",
   "execution_count": 113,
   "id": "0e362aac",
   "metadata": {},
   "outputs": [
    {
     "name": "stdout",
     "output_type": "stream",
     "text": [
      "  tpep_pickup_datetime tpep_dropoff_datetime\n",
      "0  2017-03-25 08:55:43   2017-03-25 09:09:47\n",
      "1  2017-04-11 14:53:28   2017-04-11 15:19:58\n",
      "2  2017-12-15 07:26:56   2017-12-15 07:34:08\n",
      "3  2017-05-07 13:17:59   2017-05-07 13:48:14\n",
      "4  2017-04-15 23:32:20   2017-04-15 23:49:03\n"
     ]
    }
   ],
   "source": [
    "print(data_cleaned[['tpep_pickup_datetime', 'tpep_dropoff_datetime']].head())"
   ]
  },
  {
   "cell_type": "code",
   "execution_count": 115,
   "id": "b7c39c45",
   "metadata": {},
   "outputs": [],
   "source": [
    "# 주행 시간 계산하기 (분 단위로 변환)\n",
    "\n",
    "data_cleaned['trip_duration'] = (data_cleaned['tpep_dropoff_datetime'] - data_cleaned['tpep_pickup_datetime']).dt.total_seconds() / 60"
   ]
  },
  {
   "cell_type": "code",
   "execution_count": 116,
   "id": "fff671c7",
   "metadata": {},
   "outputs": [
    {
     "name": "stdout",
     "output_type": "stream",
     "text": [
      "  tpep_pickup_datetime tpep_dropoff_datetime  trip_duration\n",
      "0  2017-03-25 08:55:43   2017-03-25 09:09:47      14.066667\n",
      "1  2017-04-11 14:53:28   2017-04-11 15:19:58      26.500000\n",
      "2  2017-12-15 07:26:56   2017-12-15 07:34:08       7.200000\n",
      "3  2017-05-07 13:17:59   2017-05-07 13:48:14      30.250000\n",
      "4  2017-04-15 23:32:20   2017-04-15 23:49:03      16.716667\n"
     ]
    }
   ],
   "source": [
    "print(data_cleaned[['tpep_pickup_datetime', 'tpep_dropoff_datetime', 'trip_duration']].head())"
   ]
  },
  {
   "cell_type": "code",
   "execution_count": 117,
   "id": "631084cf",
   "metadata": {},
   "outputs": [],
   "source": [
    "# 주행 시간, 주행 거리, 요금 간의 상관 관계 분석하기\n",
    "\n",
    "correlation_matrix = data_cleaned[['trip_duration', 'trip_distance', 'fare_amount']].corr()"
   ]
  },
  {
   "cell_type": "code",
   "execution_count": 118,
   "id": "5ff92fda",
   "metadata": {},
   "outputs": [
    {
     "name": "stdout",
     "output_type": "stream",
     "text": [
      "               trip_duration  trip_distance  fare_amount\n",
      "trip_duration       1.000000        0.15355     0.128338\n",
      "trip_distance       0.153550        1.00000     0.756430\n",
      "fare_amount         0.128338        0.75643     1.000000\n"
     ]
    }
   ],
   "source": [
    "print(correlation_matrix)"
   ]
  },
  {
   "cell_type": "code",
   "execution_count": 119,
   "id": "dadc867c",
   "metadata": {},
   "outputs": [
    {
     "data": {
      "image/png": "[encoded data removed]",
      "text/plain": [
       "<Figure size 720x576 with 2 Axes>"
      ]
     },
     "metadata": {
      "needs_background": "light"
     },
     "output_type": "display_data"
    }
   ],
   "source": [
    "# 상관 관계 행렬을 히트맵으로 시각화하기\n",
    "\n",
    "plt.figure(figsize=(10, 8))\n",
    "sns.heatmap(correlation_matrix, annot=True, cmap='coolwarm')\n",
    "plt.title('Correlation Matrix of Trip Duration, Distance, and Fare')\n",
    "plt.show()"
   ]
  },
  {
   "cell_type": "code",
   "execution_count": null,
   "id": "cc72be5c",
   "metadata": {},
   "outputs": [],
   "source": []
  },
  {
   "cell_type": "code",
   "execution_count": null,
   "id": "d35d9638",
   "metadata": {},
   "outputs": [],
   "source": [
    "Question 4. Credit Card와 Debit Card를 구분없이 \"Card\"라는 이름으로 만들기"
   ]
  },
  {
   "cell_type": "code",
   "execution_count": 120,
   "id": "bfd788e1",
   "metadata": {},
   "outputs": [],
   "source": [
    "# 'Credit Card'와 'Debit Card'를 'Card'로 통합하기\n",
    "\n",
    "data['payment_method'] = data['payment_method'].replace(['Credit Card', 'Debit Card'], 'Card')"
   ]
  },
  {
   "cell_type": "code",
   "execution_count": 121,
   "id": "c687ed91",
   "metadata": {},
   "outputs": [
    {
     "name": "stdout",
     "output_type": "stream",
     "text": [
      "Card    11505\n",
      "Cash    11196\n",
      "Name: payment_method, dtype: int64\n"
     ]
    }
   ],
   "source": [
    "print(data['payment_method'].value_counts())"
   ]
  },
  {
   "cell_type": "code",
   "execution_count": 122,
   "id": "a18c9638",
   "metadata": {},
   "outputs": [],
   "source": [
    "# 각 결제 방법별로 주행 거리와 요금의 평균 계산하기\n",
    "\n",
    "average_values = data.groupby('payment_method')[['trip_distance', 'fare_amount']].mean()"
   ]
  },
  {
   "cell_type": "code",
   "execution_count": 123,
   "id": "74bc61ca",
   "metadata": {},
   "outputs": [
    {
     "name": "stdout",
     "output_type": "stream",
     "text": [
      "                trip_distance  fare_amount\n",
      "payment_method                            \n",
      "Card                 2.928379    13.098027\n",
      "Cash                 2.898007    12.947942\n"
     ]
    }
   ],
   "source": [
    "print(average_values)"
   ]
  },
  {
   "cell_type": "code",
   "execution_count": null,
   "id": "b16412ef",
   "metadata": {},
   "outputs": [],
   "source": []
  }
 ],
 "metadata": {
  "kernelspec": {
   "display_name": "Python 3 (ipykernel)",
   "language": "python",
   "name": "python3"
  },
  "language_info": {
   "codemirror_mode": {
    "name": "ipython",
    "version": 3
   },
   "file_extension": ".py",
   "mimetype": "text/x-python",
   "name": "python",
   "nbconvert_exporter": "python",
   "pygments_lexer": "ipython3",
   "version": "3.9.7"
  }
 },
 "nbformat": 4,
 "nbformat_minor": 5
}
