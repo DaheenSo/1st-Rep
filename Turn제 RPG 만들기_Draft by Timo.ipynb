{
  "cells": [
    {
      "cell_type": "markdown",
      "metadata": {
        "id": "view-in-github",
        "colab_type": "text"
      },
      "source": [
        "<a href=\"https://colab.research.google.com/github/timothy2077/1st-Rep/blob/master/Turn%EC%A0%9C%20RPG%20%EB%A7%8C%EB%93%A4%EA%B8%B0_Draft%20by%20Timo.ipynb\" target=\"_parent\"><img src=\"https://colab.research.google.com/assets/colab-badge.svg\" alt=\"Open In Colab\"/></a>"
      ]
    },
    {
      "cell_type": "markdown",
      "metadata": {
        "id": "1gSIR-IOG_k6"
      },
      "source": []
    },
    {
      "cell_type": "markdown",
      "metadata": {
        "id": "R0ZR5vfSGYJ9"
      },
      "source": []
    },
    {
      "cell_type": "markdown",
      "metadata": {
        "id": "hMtPEK7NGams"
      },
      "source": [
        "##### Hero, Warrior, Mage, Priest, Tamer 클래스는 Character 클래스를 상속받아 동일한 속성과 메서드를 보유하고 게임이 시작되면 각 캐릭터가 순서대로 공격하며 몬스터를 없앨 때까지 게임이 지속하지만 공격할 대상이 사라지게 되면 마지막으로 공격한 캐릭터가 승리하게 되는 구조의 게임"
      ]
    },
    {
      "cell_type": "code",
      "execution_count": null,
      "metadata": {
        "id": "6VRd9ULGGnOs"
      },
      "outputs": [],
      "source": [
        "import random\n",
        "\n",
        "class Character:\n",
        "    def __init__(self, name, level, hp, attack, defense):\n",
        "        self.name = name\n",
        "        self.level = level\n",
        "        self.hp = hp\n",
        "        self.attack = attack\n",
        "        self.defense = defense\n",
        "\n",
        "    def __str__(self):  # 캐릭터의 현재 상태를 문자열로 반환\n",
        "        return f'이름: {self.name}, 레벨: {self.level}, 체력: {self.hp}, 공격력: {self.attack}, 방어력: {self.defense}'\n",
        "\n",
        "    def is_alive(self):  # 캐릭터의 체력이 0 이상인지 확인\n",
        "        return self.hp > 0\n",
        "\n",
        "    def take_damage(self, damage):  # 캐릭터가 데미지를 받음\n",
        "        if damage > self.defense:\n",
        "            self.hp -= (damage - self.defense)\n",
        "\n",
        "    def attack_target(self, target):  # 캐릭터가 타겟을 공격\n",
        "        damage = random.randint(1, self.attack)\n",
        "        target.take_damage(damage)\n",
        "\n",
        "class Hero(Character):  # Character 클래스를 상속\n",
        "    pass\n",
        "\n",
        "class Warrior(Character):\n",
        "    pass\n",
        "\n",
        "class Mage(Character):\n",
        "    pass\n",
        "\n",
        "class Priest(Character):\n",
        "    pass\n",
        "\n",
        "class Tamer(Character):\n",
        "    pass\n",
        "\n",
        "class Game:\n",
        "    def __init__(self):  # 게임의 초기화\n",
        "        self.characters = []\n",
        "\n",
        "    def add_character(self, character):  # 캐릭터 혹은 몬스터를 게임에 추가하기 위해\n",
        "        self.characters.append(character)\n",
        "\n",
        "    def start_game(self):  # 게임 시작\n",
        "        turn = 0\n",
        "        while True:\n",
        "            attacker = self.characters[turn % len(self.characters)]\n",
        "            target = random.choice([c for c in self.characters if c != attacker and c.is_alive()])\n",
        "            if target:\n",
        "                attacker.attack_target(target)\n",
        "                print(f'{attacker.name}가 {target.name}를 공격했습니다. {target.name}의 남은 체력: {target.hp}')\n",
        "            else:\n",
        "                print(f'{attacker.name}가 공격할 대상이 없습니다.')\n",
        "            if not any(c.is_alive() for c in self.characters if c != attacker):\n",
        "                print(f'{attacker.name}가 승리했습니다!')\n",
        "                break\n",
        "            turn += 1\n"
      ]
    },
    {
      "cell_type": "code",
      "execution_count": null,
      "metadata": {
        "id": "9q58wcAiI8he"
      },
      "outputs": [],
      "source": [
        "hero = Hero('주현', 10, 100, 20, 10)\n",
        "warrior = Warrior('유진', 8, 80, 18, 12)\n",
        "mage = Mage('소영', 7, 70, 22, 8)\n",
        "priest = Priest('원영', 9, 90, 16, 14)\n",
        "tamer = Tamer('정은', 6, 60, 24, 6)\n",
        "\n",
        "game = Game() # 게임 생성\n",
        "\n"
      ]
    },
    {
      "cell_type": "code",
      "execution_count": null,
      "metadata": {
        "id": "uRkj1LA1aqVh"
      },
      "outputs": [],
      "source": [
        "# 클래스를 사용하여 플레이어 캐릭터 생성과 레벨업 시스템 사용\n",
        "\n",
        "class Player(Character):\n",
        "    def __init__(self, name):  # name을 입력받고\n",
        "        super().__init__(name, 1, 100, 25, 5)  # 나머지는 기본값으로 초기화\n",
        "        self.exp = 0\n",
        "\n",
        "    def __str__(self):  # player의 현재 상태 출력\n",
        "        return f\"{self.name}, 레벨: {self.level}, 체력: {self.hp}, 공격력: {self.attack}, 방어력: {self.defense}, 경험치: {self.exp}\"\n",
        "\n",
        "    def gain_experience(self, exp):  # 경험치를 받아서 더해주기\n",
        "        self.exp += exp\n",
        "        self.level_up()             # 자동으로 레벨업 여부 결정하도록 메소드 실행\n",
        "\n",
        "    def level_up(self):\n",
        "        while True :                 # 무한루프를 가동\n",
        "            if self.exp >= 50:       # 경험치가 50이 넘으면 레벨이 올라감\n",
        "                self.level += 1\n",
        "                self.attack += 10\n",
        "                self.defense += 5\n",
        "                self.exp -= 50\n",
        "                print(f'{self.name}이(가) 레벨업 했습니다! 현재 레벨: {self.level}, 공격력: {self.attack}, 방어력: {self.defense}')\n",
        "            else:                    # 경험치가 50미만일 경우 무한루프 종료\n",
        "                break\n"
      ]
    },
    {
      "cell_type": "code",
      "execution_count": null,
      "metadata": {
        "id": "e5UNA-3dgiCx"
      },
      "outputs": [],
      "source": []
    },
    {
      "cell_type": "code",
      "execution_count": null,
      "metadata": {
        "id": "FRYpohKqgh_d"
      },
      "outputs": [],
      "source": []
    },
    {
      "cell_type": "code",
      "execution_count": null,
      "metadata": {
        "id": "XLhjVz9xgh8A"
      },
      "outputs": [],
      "source": []
    },
    {
      "cell_type": "code",
      "execution_count": null,
      "metadata": {
        "id": "vdHMhbCebSuz"
      },
      "outputs": [],
      "source": [
        "class Player(Character):\n",
        "    def __init__(self, name):  # name을 입력받고\n",
        "        super().__init__(name, 1, 100, 25, 5)  # 나머지는 기본값으로 초기화\n",
        "        self.exp = 0\n",
        "\n",
        "    def __str__(self):  # player의 현재 상태 출력\n",
        "        return f\"{self.name}, 레벨: {self.level}, 체력: {self.hp}, 공격력: {self.attack}, 방어력: {self.defense}, 경험치: {self.exp}\"\n",
        "\n",
        "    def gain_experience(self, exp):  # 경험치를 받아서 더해주기\n",
        "        self.exp += exp\n",
        "        self.level_up()             # 자동으로 레벨업 여부 결정하도록 메소드 실행\n",
        "\n",
        "    def level_up(self):\n",
        "        while True :                 # 무한루프를 가동\n",
        "            if self.exp >= 50:       # 경험치가 50이 넘으면 레벨이 올라감\n",
        "                self.level += 1\n",
        "                self.attack += 10\n",
        "                self.defense += 5\n",
        "                self.exp -= 50\n",
        "                print(f'{self.name}이(가) 레벨업 했습니다! 현재 레벨: {self.level}, 공격력: {self.attack}, 방어력: {self.defense}')\n",
        "            else:                    # 경험치가 50미만일 경우 무한루프 종료\n",
        "                break\n"
      ]
    },
    {
      "cell_type": "code",
      "execution_count": null,
      "metadata": {
        "colab": {
          "base_uri": "https://localhost:8080/"
        },
        "id": "PtTvt4nxe_P8",
        "outputId": "f61d414f-1a83-4d87-ff3f-86bd0a971e98"
      },
      "outputs": [
        {
          "name": "stdout",
          "output_type": "stream",
          "text": [
            "영웅, 레벨: 1, 체력: 100, 공격력: 25, 방어력: 5, 경험치: 0\n",
            "영웅, 레벨: 1, 체력: 100, 공격력: 25, 방어력: 5, 경험치: 40\n",
            "영웅이(가) 레벨업 했습니다! 현재 레벨: 2, 공격력: 35, 방어력: 10\n",
            "영웅이(가) 레벨업 했습니다! 현재 레벨: 3, 공격력: 45, 방어력: 15\n",
            "영웅, 레벨: 3, 체력: 100, 공격력: 45, 방어력: 15, 경험치: 0\n"
          ]
        }
      ],
      "source": [
        "# 플레이어 생성\n",
        "player = Player('영웅')\n",
        "\n",
        "# 플레이어의 현재 상태 출력\n",
        "print(player)\n",
        "\n",
        "# 플레이어에게 경험치 부여\n",
        "player.gain_experience(40)\n",
        "print(player)  # 경험치가 50미만이므로 레벨업하지 않음\n",
        "\n",
        "player.gain_experience(60)\n",
        "print(player)  # 경험치가 50이상이므로 레벨업\n"
      ]
    },
    {
      "cell_type": "code",
      "execution_count": null,
      "metadata": {
        "colab": {
          "base_uri": "https://localhost:8080/",
          "height": 321
        },
        "id": "QyomCbnuhllb",
        "outputId": "834cffe2-834f-41d6-d9cc-9c8d9c566db9"
      },
      "outputs": [
        {
          "ename": "AttributeError",
          "evalue": "'Monster' object has no attribute 'level'",
          "output_type": "error",
          "traceback": [
            "\u001b[0;31m---------------------------------------------------------------------------\u001b[0m",
            "\u001b[0;31mAttributeError\u001b[0m                            Traceback (most recent call last)",
            "\u001b[0;32m<ipython-input-34-75872d4e6a1a>\u001b[0m in \u001b[0;36m<cell line: 4>\u001b[0;34m()\u001b[0m\n\u001b[1;32m      2\u001b[0m \u001b[0;32mimport\u001b[0m \u001b[0mrandom\u001b[0m\u001b[0;34m\u001b[0m\u001b[0;34m\u001b[0m\u001b[0m\n\u001b[1;32m      3\u001b[0m \u001b[0;34m\u001b[0m\u001b[0m\n\u001b[0;32m----> 4\u001b[0;31m \u001b[0;32mclass\u001b[0m \u001b[0mMonster\u001b[0m\u001b[0;34m(\u001b[0m\u001b[0mCharacter\u001b[0m\u001b[0;34m)\u001b[0m\u001b[0;34m:\u001b[0m\u001b[0;34m\u001b[0m\u001b[0;34m\u001b[0m\u001b[0m\n\u001b[0m\u001b[1;32m      5\u001b[0m     \u001b[0;32mdef\u001b[0m \u001b[0m__init__\u001b[0m\u001b[0;34m(\u001b[0m\u001b[0mself\u001b[0m\u001b[0;34m,\u001b[0m \u001b[0mname\u001b[0m\u001b[0;34m,\u001b[0m \u001b[0mlevel\u001b[0m\u001b[0;34m)\u001b[0m\u001b[0;34m:\u001b[0m\u001b[0;34m\u001b[0m\u001b[0;34m\u001b[0m\u001b[0m\n\u001b[1;32m      6\u001b[0m         \u001b[0mhp\u001b[0m \u001b[0;34m=\u001b[0m \u001b[0mself\u001b[0m\u001b[0;34m.\u001b[0m\u001b[0mstat\u001b[0m\u001b[0;34m(\u001b[0m\u001b[0;36m0\u001b[0m\u001b[0;34m,\u001b[0m \u001b[0;36m25\u001b[0m\u001b[0;34m,\u001b[0m \u001b[0mlevel\u001b[0m\u001b[0;34m)\u001b[0m\u001b[0;34m\u001b[0m\u001b[0;34m\u001b[0m\u001b[0m\n",
            "\u001b[0;32m<ipython-input-34-75872d4e6a1a>\u001b[0m in \u001b[0;36mMonster\u001b[0;34m()\u001b[0m\n\u001b[1;32m     15\u001b[0m         \u001b[0;32mreturn\u001b[0m \u001b[0mrandom\u001b[0m\u001b[0;34m.\u001b[0m\u001b[0mrandint\u001b[0m\u001b[0;34m(\u001b[0m\u001b[0mmin_value\u001b[0m\u001b[0;34m,\u001b[0m \u001b[0mmax_value\u001b[0m\u001b[0;34m)\u001b[0m \u001b[0;34m*\u001b[0m \u001b[0mlevel\u001b[0m\u001b[0;34m\u001b[0m\u001b[0;34m\u001b[0m\u001b[0m\n\u001b[1;32m     16\u001b[0m \u001b[0;34m\u001b[0m\u001b[0m\n\u001b[0;32m---> 17\u001b[0;31m     \u001b[0mm\u001b[0m \u001b[0;34m=\u001b[0m \u001b[0mMonster\u001b[0m\u001b[0;34m(\u001b[0m\u001b[0;34m'고블린'\u001b[0m\u001b[0;34m,\u001b[0m\u001b[0;36m1\u001b[0m\u001b[0;34m)\u001b[0m\u001b[0;34m\u001b[0m\u001b[0;34m\u001b[0m\u001b[0m\n\u001b[0m\u001b[1;32m     18\u001b[0m     \u001b[0mprint\u001b[0m\u001b[0;34m(\u001b[0m\u001b[0mm\u001b[0m\u001b[0;34m)\u001b[0m\u001b[0;34m\u001b[0m\u001b[0;34m\u001b[0m\u001b[0m\n",
            "\u001b[0;32m<ipython-input-27-82557829f06d>\u001b[0m in \u001b[0;36m__init__\u001b[0;34m(self, name, level)\u001b[0m\n\u001b[1;32m      1\u001b[0m \u001b[0;32mclass\u001b[0m \u001b[0mMonster\u001b[0m\u001b[0;34m(\u001b[0m\u001b[0mCharacter\u001b[0m\u001b[0;34m)\u001b[0m\u001b[0;34m:\u001b[0m\u001b[0;34m\u001b[0m\u001b[0;34m\u001b[0m\u001b[0m\n\u001b[1;32m      2\u001b[0m     \u001b[0;32mdef\u001b[0m \u001b[0m__init__\u001b[0m\u001b[0;34m(\u001b[0m\u001b[0mself\u001b[0m\u001b[0;34m,\u001b[0m \u001b[0mname\u001b[0m\u001b[0;34m,\u001b[0m \u001b[0mlevel\u001b[0m\u001b[0;34m=\u001b[0m\u001b[0;36m1\u001b[0m\u001b[0;34m)\u001b[0m\u001b[0;34m:\u001b[0m\u001b[0;34m\u001b[0m\u001b[0;34m\u001b[0m\u001b[0m\n\u001b[0;32m----> 3\u001b[0;31m         \u001b[0mhp\u001b[0m \u001b[0;34m=\u001b[0m \u001b[0mself\u001b[0m\u001b[0;34m.\u001b[0m\u001b[0m_generate_stat\u001b[0m\u001b[0;34m(\u001b[0m\u001b[0;36m1\u001b[0m\u001b[0;34m,\u001b[0m \u001b[0;36m100\u001b[0m\u001b[0;34m)\u001b[0m\u001b[0;34m\u001b[0m\u001b[0;34m\u001b[0m\u001b[0m\n\u001b[0m\u001b[1;32m      4\u001b[0m         \u001b[0mattack\u001b[0m \u001b[0;34m=\u001b[0m \u001b[0mself\u001b[0m\u001b[0;34m.\u001b[0m\u001b[0m_generate_stat\u001b[0m\u001b[0;34m(\u001b[0m\u001b[0;36m10\u001b[0m\u001b[0;34m,\u001b[0m \u001b[0;36m30\u001b[0m\u001b[0;34m)\u001b[0m\u001b[0;34m\u001b[0m\u001b[0;34m\u001b[0m\u001b[0m\n\u001b[1;32m      5\u001b[0m         \u001b[0mdefense\u001b[0m \u001b[0;34m=\u001b[0m \u001b[0mself\u001b[0m\u001b[0;34m.\u001b[0m\u001b[0m_generate_stat\u001b[0m\u001b[0;34m(\u001b[0m\u001b[0;36m5\u001b[0m\u001b[0;34m,\u001b[0m \u001b[0;36m25\u001b[0m\u001b[0;34m)\u001b[0m\u001b[0;34m\u001b[0m\u001b[0;34m\u001b[0m\u001b[0m\n",
            "\u001b[0;32m<ipython-input-27-82557829f06d>\u001b[0m in \u001b[0;36m_generate_stat\u001b[0;34m(self, min_value, max_value)\u001b[0m\n\u001b[1;32m      7\u001b[0m \u001b[0;34m\u001b[0m\u001b[0m\n\u001b[1;32m      8\u001b[0m     \u001b[0;32mdef\u001b[0m \u001b[0m_generate_stat\u001b[0m\u001b[0;34m(\u001b[0m\u001b[0mself\u001b[0m\u001b[0;34m,\u001b[0m \u001b[0mmin_value\u001b[0m\u001b[0;34m,\u001b[0m \u001b[0mmax_value\u001b[0m\u001b[0;34m)\u001b[0m\u001b[0;34m:\u001b[0m\u001b[0;34m\u001b[0m\u001b[0;34m\u001b[0m\u001b[0m\n\u001b[0;32m----> 9\u001b[0;31m         \u001b[0;32mreturn\u001b[0m \u001b[0mrandom\u001b[0m\u001b[0;34m.\u001b[0m\u001b[0mrandint\u001b[0m\u001b[0;34m(\u001b[0m\u001b[0mmin_value\u001b[0m\u001b[0;34m,\u001b[0m \u001b[0mmax_value\u001b[0m\u001b[0;34m)\u001b[0m \u001b[0;34m*\u001b[0m \u001b[0mself\u001b[0m\u001b[0;34m.\u001b[0m\u001b[0mlevel\u001b[0m\u001b[0;34m\u001b[0m\u001b[0;34m\u001b[0m\u001b[0m\n\u001b[0m",
            "\u001b[0;31mAttributeError\u001b[0m: 'Monster' object has no attribute 'level'"
          ]
        }
      ],
      "source": [
        "# Monster 클래스\n",
        "import random\n",
        "\n",
        "class Monster(Character):\n",
        "    def __init__(self, name, level):\n",
        "        hp = self.stat(0, 25, level)\n",
        "        attack = self.stat(5, 10, level)\n",
        "        defense = self.stat(1, 5, level)\n",
        "        super().__init__(name, level, hp, attack, defense)\n",
        "\n",
        "    def __str__(self):\n",
        "        return f\"몬스터 - {super().__str__()}\"\n",
        "\n",
        "    def stat(self, min_value, max_value, level):\n",
        "        return random.randint(min_value, max_value) * level\n",
        "\n",
        "    m = Monster('고블린',1)\n",
        "    print(m)"
      ]
    },
    {
      "cell_type": "code",
      "execution_count": null,
      "metadata": {
        "colab": {
          "base_uri": "https://localhost:8080/"
        },
        "id": "LHBZBC_WiihI",
        "outputId": "2167f982-5667-4b18-d880-5a922b443f3c"
      },
      "outputs": [
        {
          "name": "stdout",
          "output_type": "stream",
          "text": [
            "몬스터 - 이름: 고블린, 레벨: 1, 체력: 21, 공격력: 9, 방어력: 2\n"
          ]
        }
      ],
      "source": [
        "import random\n",
        "\n",
        "class Character:\n",
        "    def __init__(self, name, level, hp, attack, defense):\n",
        "        self.name = name\n",
        "        self.level = level\n",
        "        self.hp = hp\n",
        "        self.attack = attack\n",
        "        self.defense = defense\n",
        "\n",
        "    def __str__(self):\n",
        "        return f\"이름: {self.name}, 레벨: {self.level}, 체력: {self.hp}, 공격력: {self.attack}, 방어력: {self.defense}\"\n",
        "\n",
        "class Monster(Character):\n",
        "    def __init__(self, name, level):\n",
        "        hp = self.stat(0, 25, level)\n",
        "        attack = self.stat(5, 10, level)\n",
        "        defense = self.stat(1, 5, level)\n",
        "        super().__init__(name, level, hp, attack, defense)\n",
        "\n",
        "    def __str__(self):\n",
        "        return f\"몬스터 - {super().__str__()}\"\n",
        "\n",
        "    def stat(self, min_value, max_value, level):\n",
        "        return random.randint(min_value, max_value) * level\n",
        "\n",
        "m = Monster('고블린',1)\n",
        "print(m)\n"
      ]
    },
    {
      "cell_type": "code",
      "execution_count": null,
      "metadata": {
        "id": "v0ZUE7LJeGB9"
      },
      "outputs": [],
      "source": [
        "class Monster(Character):\n",
        "    def __init__(self, name, level=1):\n",
        "        hp = self._generate_stat(1, 100)\n",
        "        attack = self._generate_stat(10, 30)\n",
        "        defense = self._generate_stat(5, 25)\n",
        "        super().__init__(name, level, hp, attack, defense)\n",
        "\n",
        "    def _generate_stat(self, min_value, max_value):\n",
        "        return random.randint(min_value, max_value) * self.level\n"
      ]
    },
    {
      "cell_type": "code",
      "execution_count": null,
      "metadata": {
        "colab": {
          "base_uri": "https://localhost:8080/"
        },
        "id": "v4pNdgtSjGue",
        "outputId": "7c497e9d-781d-40d7-eb99-34fbfb443a56"
      },
      "outputs": [
        {
          "name": "stdout",
          "output_type": "stream",
          "text": [
            "전투에 돌입합니다. 현재 상태\n",
            "<__main__.Player object at 0x7f40bcf42aa0>\n",
            "<__main__.Monster object at 0x7f40bcf42b00>\n",
            "--------------------------------------------------\n",
            "영웅 이 고블린 에게 공격\n",
            "고블린의 남은 체력: 98\n",
            "--------------------------------------------------\n",
            "고블린 이 영웅 에게 공격\n",
            "영웅의 남은 체력: 87\n",
            "--------------------------------------------------\n",
            "영웅 이 고블린 에게 공격\n",
            "고블린의 남은 체력: 98\n",
            "--------------------------------------------------\n",
            "고블린 이 영웅 에게 공격\n",
            "영웅의 남은 체력: 76\n",
            "--------------------------------------------------\n",
            "영웅 이 고블린 에게 공격\n",
            "고블린의 남은 체력: 94\n",
            "--------------------------------------------------\n",
            "고블린 이 영웅 에게 공격\n",
            "영웅의 남은 체력: 62\n",
            "--------------------------------------------------\n",
            "영웅 이 고블린 에게 공격\n",
            "고블린의 남은 체력: 91\n",
            "--------------------------------------------------\n",
            "고블린 이 영웅 에게 공격\n",
            "영웅의 남은 체력: 60\n",
            "--------------------------------------------------\n",
            "영웅 이 고블린 에게 공격\n",
            "고블린의 남은 체력: 90\n",
            "--------------------------------------------------\n",
            "고블린 이 영웅 에게 공격\n",
            "영웅의 남은 체력: 45\n",
            "--------------------------------------------------\n",
            "영웅 이 고블린 에게 공격\n",
            "고블린의 남은 체력: 90\n",
            "--------------------------------------------------\n",
            "고블린 이 영웅 에게 공격\n",
            "영웅의 남은 체력: 45\n",
            "--------------------------------------------------\n",
            "영웅 이 고블린 에게 공격\n",
            "고블린의 남은 체력: 85\n",
            "--------------------------------------------------\n",
            "고블린 이 영웅 에게 공격\n",
            "영웅의 남은 체력: 45\n",
            "--------------------------------------------------\n",
            "영웅 이 고블린 에게 공격\n",
            "고블린의 남은 체력: 85\n",
            "--------------------------------------------------\n",
            "고블린 이 영웅 에게 공격\n",
            "영웅의 남은 체력: 22\n",
            "--------------------------------------------------\n",
            "영웅 이 고블린 에게 공격\n",
            "고블린의 남은 체력: 83\n",
            "--------------------------------------------------\n",
            "고블린 이 영웅 에게 공격\n",
            "영웅의 남은 체력: 22\n",
            "--------------------------------------------------\n",
            "영웅 이 고블린 에게 공격\n",
            "고블린의 남은 체력: 83\n",
            "--------------------------------------------------\n",
            "고블린 이 영웅 에게 공격\n",
            "영웅의 남은 체력: 7\n",
            "--------------------------------------------------\n",
            "영웅 이 고블린 에게 공격\n",
            "고블린의 남은 체력: 83\n",
            "--------------------------------------------------\n",
            "고블린 이 영웅 에게 공격\n",
            "영웅의 남은 체력: -15\n",
            "--------------------------------------------------\n",
            "전투 패배!\n",
            "--------------------------------------------------\n",
            "<__main__.Player object at 0x7f40bcf42aa0>\n"
          ]
        }
      ],
      "source": [
        "import random\n",
        "\n",
        "class Character:\n",
        "    def __init__(self, name, level, hp, attack, defense):\n",
        "        self.name = name\n",
        "        self.level = level\n",
        "        self.hp = hp\n",
        "        self.attack = attack\n",
        "        self.defense = defense\n",
        "\n",
        "    def is_alive(self):  # 캐릭터의 체력이 0 이상인지 확인\n",
        "        return self.hp > 0\n",
        "\n",
        "    def take_damage(self, damage):  # 캐릭터가 데미지를 받음\n",
        "        if damage > self.defense:\n",
        "            self.hp -= (damage - self.defense)\n",
        "\n",
        "    def attack_target(self, target):  # 캐릭터가 타겟을 공격\n",
        "        damage = random.randint(1, self.attack)\n",
        "        target.take_damage(damage)\n",
        "\n",
        "class Player(Character):\n",
        "    def __init__(self, name):  # name을 입력받고\n",
        "        super().__init__(name, 1, 100, 25, 5)  # 나머지는 기본값으로 초기화\n",
        "        self.exp = 0\n",
        "\n",
        "    def gain_experience(self, exp):  # 경험치를 받아서 더해주기\n",
        "        self.exp += exp\n",
        "        self.level_up()             # 자동으로 레벨업 여부 결정하도록 메소드 실행\n",
        "\n",
        "    def level_up(self):\n",
        "        while True :                 # 무한루프를 가동\n",
        "            if self.exp >= 50:       # 경험치가 50이 넘으면 레벨이 올라감\n",
        "                self.level += 1\n",
        "                self.attack += 10\n",
        "                self.defense += 5\n",
        "                self.exp -= 50\n",
        "                print(f'{self.name}이(가) 레벨업 했습니다! 현재 레벨: {self.level}, 공격력: {self.attack}, 방어력: {self.defense}')\n",
        "            else:                    # 경험치가 50미만일 경우 무한루프 종료\n",
        "                break\n",
        "\n",
        "class Monster(Character):\n",
        "    def __init__(self, name, level=1):\n",
        "        self.level = level\n",
        "        hp = self._generate_stat(1, 100)\n",
        "        attack = self._generate_stat(10, 30)\n",
        "        defense = self._generate_stat(5, 25)\n",
        "        super().__init__(name, level, hp, attack, defense)\n",
        "\n",
        "    def _generate_stat(self, min_value, max_value):\n",
        "        return random.randint(min_value, max_value) * self.level\n",
        "\n",
        "\n",
        "def battle(player, monster):\n",
        "    print(\"전투에 돌입합니다. 현재 상태\")\n",
        "    print(player)\n",
        "    print(monster)\n",
        "    print(\"--------------------------------------------------\")\n",
        "\n",
        "    while player.is_alive() and monster.is_alive():\n",
        "        # 플레이어의 공격\n",
        "        player.attack_target(monster)\n",
        "        print(f'{player.name} 이 {monster.name} 에게 공격')\n",
        "        print(f'{monster.name}의 남은 체력: {monster.hp}')\n",
        "        print(\"--------------------------------------------------\")\n",
        "\n",
        "        # 몬스터의 공격\n",
        "        if monster.is_alive():\n",
        "            monster.attack_target(player)\n",
        "            print(f'{monster.name} 이 {player.name} 에게 공격')\n",
        "            print(f'{player.name}의 남은 체력: {player.hp}')\n",
        "            print(\"--------------------------------------------------\")\n",
        "\n",
        "    # 전투 결과\n",
        "    if player.is_alive():\n",
        "        player.gain_experience(30)\n",
        "        print(f'{player.name} 은 30 만큼의 경험치를 얻었다.')\n",
        "        print(\"전투 승리!\")\n",
        "    else:\n",
        "        print(\"전투 패배!\")\n",
        "    print(\"--------------------------------------------------\")\n",
        "\n",
        "# 플레이어 생성\n",
        "player = Player('영웅')\n",
        "\n",
        "# 몬스터 생성\n",
        "monster = Monster('고블린')\n",
        "\n",
        "# 전투 시작\n",
        "battle(player, monster)\n",
        "\n",
        "# 전투 후 플레이어 상태 확인\n",
        "print(player)\n"
      ]
    },
    {
      "cell_type": "code",
      "execution_count": null,
      "metadata": {
        "id": "XwYYCvgT9Bgh"
      },
      "outputs": [],
      "source": []
    },
    {
      "cell_type": "code",
      "execution_count": 57,
      "metadata": {
        "collapsed": true,
        "id": "xOHlenhKAEzy",
        "colab": {
          "base_uri": "https://localhost:8080/"
        },
        "outputId": "fa5dc2a9-a090-455d-ca12-c89740311bf6"
      },
      "outputs": [
        {
          "output_type": "stream",
          "name": "stdout",
          "text": [
            "캐릭터 이름을 입력하세요: 워리어\n",
            "환영합니다, 워리어!\n",
            "\n",
            "--------------------------------------------------\n",
            "1번째 스테이지 시작\n",
            "1마리의 고블린을 마주쳤습니다!\n",
            "\n",
            "전투에 돌입합니다. 현재 상태\n",
            "워리어 (현재 체력: 100, 공격력: 25, 방어력: 5)\n",
            "고블린 (현재 체력: 30, 공격력: 10, 방어력: 5)\n",
            "--------------------------------------------------\n",
            "워리어 이(가) 고블린 에게 20 데미지의 공격\n",
            "고블린 은(는) 20만큼의 타격을 입었다. 고블린의 남은 체력: 10\n",
            "고블린 이(가) 워리어 에게 5 데미지의 공격\n",
            "워리어 은(는) 5만큼의 타격을 입었다. 워리어의 남은 체력: 95\n",
            "--------------------------------------------------\n",
            "워리어 이(가) 고블린 에게 20 데미지의 공격\n",
            "고블린 은(는) 20만큼의 타격을 입었다. 고블린의 남은 체력: -10\n",
            "--------------------------------------------------\n",
            "워리어 은(는) 30 만큼의 경험치를 얻었다.\n",
            "전투 승리!\n",
            "1번째 스테이지 종료\n",
            "\n",
            "--------------------------------------------------\n",
            "2번째 스테이지 시작\n",
            "1마리의 트롤을 마주쳤습니다!\n",
            "\n",
            "전투에 돌입합니다. 현재 상태\n",
            "워리어 (현재 체력: 95, 공격력: 25, 방어력: 5)\n",
            "트롤 (현재 체력: 25, 공격력: 12, 방어력: 2)\n",
            "--------------------------------------------------\n",
            "워리어 이(가) 트롤 에게 23 데미지의 공격\n",
            "트롤 은(는) 23만큼의 타격을 입었다. 트롤의 남은 체력: 2\n",
            "트롤 이(가) 워리어 에게 7 데미지의 공격\n",
            "워리어 은(는) 7만큼의 타격을 입었다. 워리어의 남은 체력: 88\n",
            "--------------------------------------------------\n",
            "워리어 이(가) 트롤 에게 23 데미지의 공격\n",
            "트롤 은(는) 23만큼의 타격을 입었다. 트롤의 남은 체력: -21\n",
            "--------------------------------------------------\n",
            "워리어 이(가) 레벨업 했습니다! 현재 레벨: 2, 공격력: 35, 방어력: 10\n",
            "워리어 은(는) 30 만큼의 경험치를 얻었다.\n",
            "전투 승리!\n",
            "2번째 스테이지 종료\n",
            "\n"
          ]
        }
      ],
      "source": [
        "import random\n",
        "\n",
        "class Character:\n",
        "    def __init__(self, name, level, hp, attack, defense):\n",
        "        self.name = name\n",
        "        self.level = level\n",
        "        self.hp = hp\n",
        "        self.attack = attack\n",
        "        self.defense = defense\n",
        "\n",
        "    def is_alive(self):\n",
        "        return self.hp > 0\n",
        "\n",
        "    def attack_target(self, target):\n",
        "        damage = max(self.attack - target.defense, 0)\n",
        "        target.take_damage(damage)\n",
        "        print(f'{self.name} 이(가) {target.name} 에게 {damage} 데미지의 공격')\n",
        "        print(f'{target.name} 은(는) {damage}만큼의 타격을 입었다. {target.name}의 남은 체력: {target.hp}')\n",
        "\n",
        "    def take_damage(self, damage):\n",
        "        self.hp -= damage\n",
        "\n",
        "class Player(Character):\n",
        "    def __init__(self, name):\n",
        "        super().__init__(name, 1, 100, 25, 5)\n",
        "        self.exp = 0\n",
        "\n",
        "    def gain_experience(self, exp):\n",
        "        self.exp += exp\n",
        "        self.level_up()\n",
        "\n",
        "    def level_up(self):\n",
        "        while self.exp >= 50:\n",
        "            self.level += 1\n",
        "            self.attack += 10\n",
        "            self.defense += 5\n",
        "            self.exp -= 50\n",
        "            print(f'{self.name} 이(가) 레벨업 했습니다! 현재 레벨: {self.level}, 공격력: {self.attack}, 방어력: {self.defense}')\n",
        "\n",
        "class Monster(Character):\n",
        "    def __init__(self, name, level=1):\n",
        "        super().__init__(name, level, hp=random.randint(20, 30), attack=random.randint(10, 15), defense=random.randint(2, 5))\n",
        "\n",
        "def stage_battle(player, stage_number, monster_names):\n",
        "    print(f'--------------------------------------------------\\n{stage_number}번째 스테이지 시작')\n",
        "    for monster_name in monster_names:\n",
        "        monster = Monster(monster_name)\n",
        "        print(f'1마리의 {monster_name}을 마주쳤습니다!\\n')\n",
        "        battle(player, monster)\n",
        "        if not player.is_alive():\n",
        "            print(f'{player.name} 이(가) 사망했습니다\\n{player.name}, 플레이 해 주셔서 감사합니다!')\n",
        "            return\n",
        "    print(f'{stage_number}번째 스테이지 종료\\n')\n",
        "\n",
        "def battle(player, monster):\n",
        "    print(\"전투에 돌입합니다. 현재 상태\")\n",
        "    print(f'{player.name} (현재 체력: {player.hp}, 공격력: {player.attack}, 방어력: {player.defense})')\n",
        "    print(f'{monster.name} (현재 체력: {monster.hp}, 공격력: {monster.attack}, 방어력: {monster.defense})')\n",
        "    print(\"--------------------------------------------------\")\n",
        "\n",
        "    while player.is_alive() and monster.is_alive():\n",
        "        player.attack_target(monster)\n",
        "        if monster.is_alive():\n",
        "            monster.attack_target(player)\n",
        "        print(\"--------------------------------------------------\")\n",
        "\n",
        "    if player.is_alive():\n",
        "        player.gain_experience(30)\n",
        "        print(f'{player.name} 은(는) 30 만큼의 경험치를 얻었다.\\n전투 승리!')\n",
        "    else:\n",
        "        print(\"전투 패배..\")\n",
        "\n",
        "# 게임 실행\n",
        "def main():\n",
        "    player_name = input('캐릭터 이름을 입력하세요: ')\n",
        "    player = Player(player_name)\n",
        "    print(f'환영합니다, {player.name}!\\n')\n",
        "\n",
        "    # 스테이지별 전투 진행\n",
        "    stage_battle(player, 1, ['고블린'])\n",
        "    if player.is_alive():\n",
        "        stage_battle(player, 2, ['트롤'])\n",
        "   # 3, 4, 5 스테이지 코드는 여기에\n",
        "\n",
        "    if not player.is_alive():\n",
        "        print(f'{player.name}이 사망했습니다\\n{player.name}, 플레이 해 주셔서 감사합니다!')\n",
        "\n",
        "if __name__ == '__main__':\n",
        "    main()\n"
      ]
    }
  ],
  "metadata": {
    "colab": {
      "provenance": [],
      "authorship_tag": "ABX9TyPquy0/UNZSZ/ATEuVGUhsB",
      "include_colab_link": true
    },
    "kernelspec": {
      "display_name": "Python 3",
      "name": "python3"
    },
    "language_info": {
      "name": "python"
    }
  },
  "nbformat": 4,
  "nbformat_minor": 0
}