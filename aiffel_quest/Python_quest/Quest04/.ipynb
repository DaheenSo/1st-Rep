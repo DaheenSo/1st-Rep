[QUEST 05] 파이썬을 사용하여 간단한 계산기 프로그램 만들기
사용자로부터 두 개의 정수와 연산자 5가지를 입력받아 계산 결과를 출력하는 프로그램 만들기
회고
Math 모듈 사용을 통해 제곱연산을 수행하는 것이 숨겨진 퀘스트의 핵심입니다.휴면으로부터 두 개의 정수와 연산자를 입력받아 계산 결과를 출력하며 휴면이 정수가 아닌 값을 입력하거나, 지원하지 않는 연산자를 입력하거나, 0으로 나누려고 하면 단순하거나 아니면 충격적인 오류 메시지를 출력하고 다시 입력을 요청하는 계산기입니다. 끝으로, 계산이 끝난 후에는 사용자에게 계속 계산할 것인지 묻는데 사용자가 '예가 아닌 다른 값을 입력하면 프로그램이 종료됩니다. 이 프로그램은 Python의 math 모듈을 사용하여 제곱 연산을 지원합니다

[20]
import math  # math model import (제곱연산** 수행을 위해)

def calculator():
    while True: # 무한 루프 (계산을 중단하기로 결정할 때가지 실행)
        try:    # 예외처리 블록 (발생되는 오류는 except에서 처리)
            num1 = int(input("첫 번째 정수를 입력해주세요: "))
            num2 = int(input("두 번째 정수를 입력해주세요: "))
            operator = input("연산자를 입력해주세요(+,-,*,/,**): ")

            if operator == '+':
                result = num1 + num2                                              
            elif operator == '-':
                result = num1 - num2
            elif operator == '*':
                result = num1 * num2
            elif operator == '/':
              if num2 == 0:                                                  #나눗셈 연산에서 분모가 0임을 확인
                raise ZeroDivisionError ("당신은 바보입니까?")                             #분모가 0인 경우 ZeroDivisionError 출력실행
                result = num1 / num2
            elif operator == '**':  
                result = math.pow(num1, num2)
            else:
                raise ValueError("지원하지 않는 연산자입니다.")

            print("결과: ", result)

            continue_calculation = input("계속 계산하시겠습니까? (예/아니오): ")
            if continue_calculation.lower() != '예':
                break

        except ValueError as ve:
            print(ve)
            print("잘못된 입력입니다. 정수를 입력해주세요.")
        except ZeroDivisionError as zde:
            print(zde)
            print("0으로 나눌 수 없습니다.")

calculator()

첫 번째 정수를 입력해주세요: 12
두 번째 정수를 입력해주세요: 0
연산자를 입력해주세요(+,-,*,/,**): /
당신은 바보입니까?
0으로 나눌 수 없습니다.
첫 번째 정수를 입력해주세요: 진석
invalid literal for int() with base 10: '진석'
잘못된 입력입니다. 정수를 입력해주세요.
첫 번째 정수를 입력해주세요: 12
두 번째 정수를 입력해주세요: 4
연산자를 입력해주세요(+,-,*,/,**): **
결과:  20736.0
계속 계산하시겠습니까? (예/아니오): 예
첫 번째 정수를 입력해주세요: 13
두 번째 정수를 입력해주세요: 6
연산자를 입력해주세요(+,-,*,/,**): //
지원하지 않는 연산자입니다.
잘못된 입력입니다. 정수를 입력해주세요.
첫 번째 정수를 입력해주세요: 3.14
invalid literal for int() with base 10: '3.14'
잘못된 입력입니다. 정수를 입력해주세요.
첫 번째 정수를 입력해주세요: 
